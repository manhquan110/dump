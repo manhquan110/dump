{
 "cells": [
  {
   "cell_type": "code",
   "execution_count": null,
   "metadata": {},
   "outputs": [],
   "source": [
    "prcomp(x, ...)\n",
    "## Default S3 method:\n",
    "prcomp(x, retx = TRUE, center = TRUE, scale. = FALSE,\n",
    "       tol = NULL, rank. = NULL, ...)\n",
    "center\n",
    "    a logical value indicating whether the variables should be shifted to be zero centered.\n",
    "    Alternately, a vector of length equal the number of columns of x can be supplied.\n",
    "    The value is passed to scale.\n",
    "\n",
    "scale.\n",
    "    a logical value indicating whether the variables should be scaled to have unit variance \n",
    "before the analysis takes place. \n",
    "    The default is FALSE for consistency with S, but in general scaling is advisable.\n",
    "    Alternatively, a vector of length equal the number of columns of x can be supplied. \n",
    "    The value is passed to scale.\n",
    "\n",
    "<<< center: the variable means (means that were substracted)\n",
    "<<< scale: the variable standard deviations (the scaling applied to each variable)\n"
   ]
  }
 ],
 "metadata": {
  "kernelspec": {
   "display_name": "R",
   "language": "R",
   "name": "ir"
  },
  "language_info": {
   "codemirror_mode": "r",
   "file_extension": ".r",
   "mimetype": "text/x-r-source",
   "name": "R",
   "pygments_lexer": "r",
   "version": "3.4.2"
  }
 },
 "nbformat": 4,
 "nbformat_minor": 2
}
